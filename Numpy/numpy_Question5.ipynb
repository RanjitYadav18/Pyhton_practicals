{
  "nbformat": 4,
  "nbformat_minor": 0,
  "metadata": {
    "colab": {
      "name": "numpy_Question5.ipynb",
      "provenance": [],
      "collapsed_sections": []
    },
    "kernelspec": {
      "name": "python3",
      "display_name": "Python 3"
    },
    "language_info": {
      "name": "python"
    }
  },
  "cells": [
    {
      "cell_type": "code",
      "source": [
        "#finding the frequency of 'p' in given array\n",
        "import numpy as np\n",
        "c=[]\n",
        "a=np.array(['p','q','r','t','p','y','p'])\n",
        "for i in a:\n",
        "  if i =='p':\n",
        "    c.append(i)\n",
        "frequency=len(c)\n",
        "print(\"the number of occurences of 'p' in the given array is \",frequency)"
      ],
      "metadata": {
        "colab": {
          "base_uri": "https://localhost:8080/"
        },
        "id": "ga-jidBA_sjX",
        "outputId": "324655fc-b4f2-43d9-94aa-6795de1d11cb"
      },
      "execution_count": 7,
      "outputs": [
        {
          "output_type": "stream",
          "name": "stdout",
          "text": [
            "the number of occurences of 'p' in the given array is  3\n"
          ]
        }
      ]
    },
    {
      "cell_type": "code",
      "source": [
        ""
      ],
      "metadata": {
        "id": "wG9HKt9x_0yR"
      },
      "execution_count": null,
      "outputs": []
    }
  ]
}