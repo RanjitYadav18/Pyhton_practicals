{
  "nbformat": 4,
  "nbformat_minor": 0,
  "metadata": {
    "colab": {
      "name": "numpy_Question4.ipynb",
      "provenance": [],
      "collapsed_sections": []
    },
    "kernelspec": {
      "name": "python3",
      "display_name": "Python 3"
    },
    "language_info": {
      "name": "python"
    }
  },
  "cells": [
    {
      "cell_type": "code",
      "source": [
        "#finding the max value and min value of flattened array\n",
        "import numpy as np\n",
        "q=np.array(([1,2,3,4,5],[6,7,8,9,10]))\n",
        "print(q)\n",
        "f=np.ndarray.flatten(q)\n",
        "print(\"the flattened array is \",f)\n",
        "ma=f.max()\n",
        "mi=f.min()\n",
        "print(\"the max and min value of flattened array is \",ma,mi)"
      ],
      "metadata": {
        "colab": {
          "base_uri": "https://localhost:8080/"
        },
        "id": "l-rbJtOE_iqA",
        "outputId": "ddf5d354-a547-43e2-cc6e-36236e320e42"
      },
      "execution_count": 5,
      "outputs": [
        {
          "output_type": "stream",
          "name": "stdout",
          "text": [
            "[[ 1  2  3  4  5]\n",
            " [ 6  7  8  9 10]]\n",
            "the flattened array is  [ 1  2  3  4  5  6  7  8  9 10]\n",
            "the max and min value of flattened array is  10 1\n"
          ]
        }
      ]
    },
    {
      "cell_type": "code",
      "source": [
        ""
      ],
      "metadata": {
        "id": "ga-jidBA_sjX"
      },
      "execution_count": null,
      "outputs": []
    }
  ]
}