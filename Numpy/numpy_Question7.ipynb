{
  "nbformat": 4,
  "nbformat_minor": 0,
  "metadata": {
    "colab": {
      "name": "numpy_Question7.ipynb",
      "provenance": [],
      "collapsed_sections": []
    },
    "kernelspec": {
      "name": "python3",
      "display_name": "Python 3"
    },
    "language_info": {
      "name": "python"
    }
  },
  "cells": [
    {
      "cell_type": "code",
      "source": [
        "#sorting of flattened array \n",
        "import numpy as np\n",
        "a=np.array(([98,55,52,4,48],[88,2,47,120,989]))\n",
        "f=np.ndarray.flatten(a)\n",
        "np.sort(f)"
      ],
      "metadata": {
        "colab": {
          "base_uri": "https://localhost:8080/"
        },
        "id": "Zwumr0XT_9uy",
        "outputId": "c160583c-cd93-441b-f9ca-8d8017876aba"
      },
      "execution_count": 9,
      "outputs": [
        {
          "output_type": "execute_result",
          "data": {
            "text/plain": [
              "array([  2,   4,  47,  48,  52,  55,  88,  98, 120, 989])"
            ]
          },
          "metadata": {},
          "execution_count": 9
        }
      ]
    },
    {
      "cell_type": "code",
      "source": [
        ""
      ],
      "metadata": {
        "id": "hwgsF55SAFu_"
      },
      "execution_count": null,
      "outputs": []
    }
  ]
}