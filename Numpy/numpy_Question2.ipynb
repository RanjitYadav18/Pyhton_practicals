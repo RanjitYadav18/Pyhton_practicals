{
  "nbformat": 4,
  "nbformat_minor": 0,
  "metadata": {
    "colab": {
      "name": "numpy_Question2.ipynb",
      "provenance": [],
      "collapsed_sections": []
    },
    "kernelspec": {
      "name": "python3",
      "display_name": "Python 3"
    },
    "language_info": {
      "name": "python"
    }
  },
  "cells": [
    {
      "cell_type": "code",
      "source": [
        "#finding the difference of max value and min value of array along second axis\n",
        "import numpy as np\n",
        "a=np.array(([1,2,3,4,5],[6,7,8,9,10]))\n",
        "print(a)\n",
        "m=np.amax(a,1)\n",
        "mi=np.amin(a,1)\n",
        "difference=m-mi\n",
        "print(\"the difference between the max value and min value of the array along the second axis is \",difference)"
      ],
      "metadata": {
        "colab": {
          "base_uri": "https://localhost:8080/"
        },
        "id": "NDApfaRA_L_Q",
        "outputId": "aaa3c77d-d9cd-4417-f6bf-a8063d8cfac8"
      },
      "execution_count": 3,
      "outputs": [
        {
          "output_type": "stream",
          "name": "stdout",
          "text": [
            "[[ 1  2  3  4  5]\n",
            " [ 6  7  8  9 10]]\n",
            "the difference between the max value and min value of the array along the second axis is  [4 4]\n"
          ]
        }
      ]
    },
    {
      "cell_type": "code",
      "source": [
        ""
      ],
      "metadata": {
        "id": "Xg-Sqpo__XH-"
      },
      "execution_count": null,
      "outputs": []
    }
  ]
}