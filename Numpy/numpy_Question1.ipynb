{
  "nbformat": 4,
  "nbformat_minor": 0,
  "metadata": {
    "colab": {
      "name": "numpy_Question1.ipynb",
      "provenance": [],
      "collapsed_sections": []
    },
    "kernelspec": {
      "name": "python3",
      "display_name": "Python 3"
    },
    "language_info": {
      "name": "python"
    }
  },
  "cells": [
    {
      "cell_type": "code",
      "source": [
        "#finding the max and min value of numpy array\n",
        "import numpy as np\n",
        "a=np.array([1,2,3,4,5])\n",
        "m=a.max()\n",
        "mi=a.min()\n",
        "print(\"the max value and min value of this array is \",m,mi)"
      ],
      "metadata": {
        "id": "eIQS53ymO1kD",
        "colab": {
          "base_uri": "https://localhost:8080/"
        },
        "outputId": "39eaadb2-6b58-42e1-b2a2-eff6efa90371"
      },
      "execution_count": 1,
      "outputs": [
        {
          "output_type": "stream",
          "name": "stdout",
          "text": [
            "the max value and min value of this array is  5 1\n"
          ]
        }
      ]
    },
    {
      "cell_type": "code",
      "source": [
        ""
      ],
      "metadata": {
        "id": "NDApfaRA_L_Q"
      },
      "execution_count": null,
      "outputs": []
    }
  ]
}