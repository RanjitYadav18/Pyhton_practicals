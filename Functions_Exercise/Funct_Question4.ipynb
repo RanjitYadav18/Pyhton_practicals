{
  "nbformat": 4,
  "nbformat_minor": 0,
  "metadata": {
    "colab": {
      "name": "Funct_Question4.ipynb",
      "provenance": [],
      "collapsed_sections": []
    },
    "kernelspec": {
      "name": "python3",
      "display_name": "Python 3"
    },
    "language_info": {
      "name": "python"
    }
  },
  "cells": [
    {
      "cell_type": "markdown",
      "source": [
        "***Question:-WAP in python to create a function to check whether given is pallindrome or not ***"
      ],
      "metadata": {
        "id": "UzexhJ_CGw0x"
      }
    },
    {
      "cell_type": "code",
      "source": [
        "#creating a function to check whether given is pallindrome or not \n",
        "def palindrome(n):\n",
        "  a=n\n",
        "  rev=0\n",
        "  while(a>0):\n",
        "    lv=a%10\n",
        "    rev=(rev*10)+lv\n",
        "    a=a//10\n",
        "  if(n==rev):\n",
        "    print(\"palindrome\")\n",
        "  else:\n",
        "    print(\"not palindrome\")\n",
        "n=int(input(\"enter the value\"))\n",
        "palindrome(n)"
      ],
      "metadata": {
        "colab": {
          "base_uri": "https://localhost:8080/"
        },
        "id": "V_yNytY9IfiV",
        "outputId": "4dda15a4-cf33-4138-b62e-6fb2bd70c837"
      },
      "execution_count": 5,
      "outputs": [
        {
          "output_type": "stream",
          "name": "stdout",
          "text": [
            "enter the value565\n",
            "palindrome\n"
          ]
        }
      ]
    },
    {
      "cell_type": "code",
      "source": [
        ""
      ],
      "metadata": {
        "id": "-Cju7iX4I24i"
      },
      "execution_count": null,
      "outputs": []
    }
  ]
}