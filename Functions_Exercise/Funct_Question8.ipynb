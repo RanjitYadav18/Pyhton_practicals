{
  "nbformat": 4,
  "nbformat_minor": 0,
  "metadata": {
    "colab": {
      "name": "Funct_Question8.ipynb",
      "provenance": [],
      "collapsed_sections": []
    },
    "kernelspec": {
      "name": "python3",
      "display_name": "Python 3"
    },
    "language_info": {
      "name": "python"
    }
  },
  "cells": [
    {
      "cell_type": "markdown",
      "source": [
        "***Question:-WAP in python to create a function to print hello ***"
      ],
      "metadata": {
        "id": "UzexhJ_CGw0x"
      }
    },
    {
      "cell_type": "code",
      "source": [
        "#creating a function  to hello\n",
        "def fun(x):\n",
        "  print(\"hello\",x)\n",
        "n=input(\"enter your name\")\n",
        "fun(n)"
      ],
      "metadata": {
        "colab": {
          "base_uri": "https://localhost:8080/"
        },
        "id": "hpUBM5mMLQFv",
        "outputId": "84bc41d6-2c35-47f7-ed5d-dbb2a37e3926"
      },
      "execution_count": 16,
      "outputs": [
        {
          "output_type": "stream",
          "name": "stdout",
          "text": [
            "enter your namehitansh\n",
            "hello hitansh\n"
          ]
        }
      ]
    },
    {
      "cell_type": "code",
      "source": [
        ""
      ],
      "metadata": {
        "id": "82JHoh77LWFJ"
      },
      "execution_count": null,
      "outputs": []
    }
  ]
}