{
  "nbformat": 4,
  "nbformat_minor": 0,
  "metadata": {
    "colab": {
      "name": "Funct_Question5.ipynb",
      "provenance": [],
      "collapsed_sections": []
    },
    "kernelspec": {
      "name": "python3",
      "display_name": "Python 3"
    },
    "language_info": {
      "name": "python"
    }
  },
  "cells": [
    {
      "cell_type": "markdown",
      "source": [
        "***Question:-WAP in python to create a function to check whether the given number is perfect square or not  ***"
      ],
      "metadata": {
        "id": "UzexhJ_CGw0x"
      }
    },
    {
      "cell_type": "code",
      "source": [
        "#creating a function to check whether it is perfect square or not \n",
        "def perfect_square(n):\n",
        "  c=int((n**0.5))\n",
        "  if(c**2==n):\n",
        "    print(\"perfect square\")\n",
        "  else:\n",
        "    print(\"not perfect square\")\n",
        "n=int(input(\"enter the value\"))\n",
        "perfect_square(n)"
      ],
      "metadata": {
        "colab": {
          "base_uri": "https://localhost:8080/"
        },
        "id": "-Cju7iX4I24i",
        "outputId": "74b66d02-8ffa-4918-dbf9-48278fbc9093"
      },
      "execution_count": 7,
      "outputs": [
        {
          "output_type": "stream",
          "name": "stdout",
          "text": [
            "enter the value121\n",
            "perfect square\n"
          ]
        }
      ]
    },
    {
      "cell_type": "code",
      "source": [
        ""
      ],
      "metadata": {
        "id": "7h4SbB_mJHP4"
      },
      "execution_count": null,
      "outputs": []
    }
  ]
}