{
  "nbformat": 4,
  "nbformat_minor": 0,
  "metadata": {
    "colab": {
      "name": "Funct_Question10.ipynb",
      "provenance": [],
      "collapsed_sections": []
    },
    "kernelspec": {
      "name": "python3",
      "display_name": "Python 3"
    },
    "language_info": {
      "name": "python"
    }
  },
  "cells": [
    {
      "cell_type": "markdown",
      "source": [
        "***Question:-WAP in python to create a function to find even number from a list ***"
      ],
      "metadata": {
        "id": "UzexhJ_CGw0x"
      }
    },
    {
      "cell_type": "code",
      "source": [
        "def is_even_num(l):\n",
        "    enum = []\n",
        "    for n in l:\n",
        "        if n % 2 == 0:\n",
        "            enum.append(n)\n",
        "    return enum\n",
        "print(is_even_num([1, 2, 3, 4, 5, 6, 7, 8, 9]))"
      ],
      "metadata": {
        "colab": {
          "base_uri": "https://localhost:8080/"
        },
        "id": "eC54LhZ3L954",
        "outputId": "b5fb08d1-947d-41d8-de19-f5e38d6af387"
      },
      "execution_count": 18,
      "outputs": [
        {
          "output_type": "stream",
          "name": "stdout",
          "text": [
            "[2, 4, 6, 8]\n"
          ]
        }
      ]
    },
    {
      "cell_type": "code",
      "source": [
        ""
      ],
      "metadata": {
        "id": "N7ZkGx1jMiyU"
      },
      "execution_count": null,
      "outputs": []
    }
  ]
}