{
  "nbformat": 4,
  "nbformat_minor": 0,
  "metadata": {
    "colab": {
      "name": "Funct_Question7.ipynb",
      "provenance": [],
      "collapsed_sections": []
    },
    "kernelspec": {
      "name": "python3",
      "display_name": "Python 3"
    },
    "language_info": {
      "name": "python"
    }
  },
  "cells": [
    {
      "cell_type": "markdown",
      "source": [
        "***Question:-WAP in python to create a function to swap two numbers ***"
      ],
      "metadata": {
        "id": "UzexhJ_CGw0x"
      }
    },
    {
      "cell_type": "code",
      "source": [
        "P = int( input(\"Please enter value for P: \"))  \n",
        "Q = int( input(\"Please enter value for Q: \"))  \n",
        "   \n",
        "# To swap the value of two variables  \n",
        "# we will user third variable which is a temporary variable  \n",
        "temp_1 = P  \n",
        "P = Q  \n",
        "Q = temp_1  \n",
        "   \n",
        "print (\"The Value of P after swapping: \", P)  \n",
        "print (\"The Value of Q after swapping: \", Q)  "
      ],
      "metadata": {
        "colab": {
          "base_uri": "https://localhost:8080/"
        },
        "id": "Jhfkq98uKVhq",
        "outputId": "7157897e-d587-449b-e130-cdda506cda35"
      },
      "execution_count": 15,
      "outputs": [
        {
          "output_type": "stream",
          "name": "stdout",
          "text": [
            "Please enter value for P: 656\n",
            "Please enter value for Q: 564\n",
            "The Value of P after swapping:  564\n",
            "The Value of Q after swapping:  656\n"
          ]
        }
      ]
    },
    {
      "cell_type": "code",
      "source": [
        ""
      ],
      "metadata": {
        "id": "2JQGtSZVKo1Z"
      },
      "execution_count": null,
      "outputs": []
    }
  ]
}