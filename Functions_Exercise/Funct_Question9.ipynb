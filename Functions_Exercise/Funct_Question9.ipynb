{
  "nbformat": 4,
  "nbformat_minor": 0,
  "metadata": {
    "colab": {
      "name": "Funct_Question9.ipynb",
      "provenance": [],
      "collapsed_sections": []
    },
    "kernelspec": {
      "name": "python3",
      "display_name": "Python 3"
    },
    "language_info": {
      "name": "python"
    }
  },
  "cells": [
    {
      "cell_type": "markdown",
      "source": [
        "***Question:-WAP in python to create a function to reverse a string ***"
      ],
      "metadata": {
        "id": "UzexhJ_CGw0x"
      }
    },
    {
      "cell_type": "code",
      "source": [
        "def reverse_string(str):  \n",
        "    str1 = \"\"   \n",
        "    for i in str:  \n",
        "        str1 = i + str1  \n",
        "    return str1     \n",
        "     \n",
        "str = \"JavaTpoint\"           \n",
        "print(\"The original string is: \",str)  \n",
        "print(\"The reverse string is\",reverse_string(str))"
      ],
      "metadata": {
        "colab": {
          "base_uri": "https://localhost:8080/"
        },
        "id": "82JHoh77LWFJ",
        "outputId": "74a17b14-8032-45f5-ac3c-0ba67fd6062e"
      },
      "execution_count": 17,
      "outputs": [
        {
          "output_type": "stream",
          "name": "stdout",
          "text": [
            "The original string is:  JavaTpoint\n",
            "The reverse string is tniopTavaJ\n"
          ]
        }
      ]
    },
    {
      "cell_type": "code",
      "source": [
        ""
      ],
      "metadata": {
        "id": "eC54LhZ3L954"
      },
      "execution_count": null,
      "outputs": []
    }
  ]
}