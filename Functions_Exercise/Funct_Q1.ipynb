{
  "nbformat": 4,
  "nbformat_minor": 0,
  "metadata": {
    "colab": {
      "name": "Untitled0.ipynb",
      "provenance": []
    },
    "kernelspec": {
      "name": "python3",
      "display_name": "Python 3"
    },
    "language_info": {
      "name": "python"
    }
  },
  "cells": [
    {
      "cell_type": "markdown",
      "source": [
        "***Question:-Wap a program in python to create a function to check whether a number is armstrong or not  ***"
      ],
      "metadata": {
        "id": "UzexhJ_CGw0x"
      }
    },
    {
      "cell_type": "code",
      "execution_count": 1,
      "metadata": {
        "colab": {
          "base_uri": "https://localhost:8080/"
        },
        "id": "HRNsqqVMGpeG",
        "outputId": "fa2c8f2e-a654-484b-8cee-fcb26bf39377"
      },
      "outputs": [
        {
          "output_type": "stream",
          "name": "stdout",
          "text": [
            "enter the number656\n",
            "not armstrong\n"
          ]
        }
      ],
      "source": [
        "def armstrong(n):\n",
        "    m=n\n",
        "    o=n\n",
        "    c=0\n",
        "    while(o>0):\n",
        "        o=o//10\n",
        "        c=c+1\n",
        "    sum=0\n",
        "    while(n>0):\n",
        "        lv=n%10\n",
        "        sum=sum+lv**c\n",
        "        n=n//10\n",
        "    if(m==sum):\n",
        "        print(\"armstrong\")\n",
        "    else:\n",
        "        print(\"not armstrong\")\n",
        "n=int(input(\"enter the number\"))\n",
        "armstrong(n)"
      ]
    }
  ]
}