{
  "nbformat": 4,
  "nbformat_minor": 0,
  "metadata": {
    "colab": {
      "name": "Random_module_Q2.ipynb",
      "provenance": [],
      "collapsed_sections": []
    },
    "kernelspec": {
      "name": "python3",
      "display_name": "Python 3"
    },
    "language_info": {
      "name": "python"
    }
  },
  "cells": [
    {
      "cell_type": "markdown",
      "source": [
        "**Question:-WAP in python to show the work of seed function**"
      ],
      "metadata": {
        "id": "bH9N3tqnJX2l"
      }
    },
    {
      "cell_type": "code",
      "source": [
        "\n",
        "import random\n",
        "  \n",
        "random.seed(5)\n",
        "  \n",
        "print(random.random())\n",
        "print(random.random())"
      ],
      "metadata": {
        "colab": {
          "base_uri": "https://localhost:8080/"
        },
        "id": "NLCLQWHWJWkg",
        "outputId": "7454ac4d-9d1b-490b-aa92-f1fb45d0b1fa"
      },
      "execution_count": 18,
      "outputs": [
        {
          "output_type": "stream",
          "name": "stdout",
          "text": [
            "0.6229016948897019\n",
            "0.7417869892607294\n"
          ]
        }
      ]
    },
    {
      "cell_type": "code",
      "source": [
        ""
      ],
      "metadata": {
        "id": "QaecmaYfJpu2"
      },
      "execution_count": null,
      "outputs": []
    }
  ]
}