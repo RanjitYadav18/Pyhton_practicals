{
  "nbformat": 4,
  "nbformat_minor": 0,
  "metadata": {
    "colab": {
      "name": "Random_module_Q4.ipynb",
      "provenance": [],
      "collapsed_sections": []
    },
    "kernelspec": {
      "name": "python3",
      "display_name": "Python 3"
    },
    "language_info": {
      "name": "python"
    }
  },
  "cells": [
    {
      "cell_type": "code",
      "source": [
        "# the use of sample() function .\n",
        "  \n",
        "# import random \n",
        "from random import sample\n",
        "list1 = [1, 2, 3, 4, 5]\n",
        "print(sample(list1,3))"
      ],
      "metadata": {
        "colab": {
          "base_uri": "https://localhost:8080/"
        },
        "id": "LHj_91HTKAbL",
        "outputId": "9791821f-902d-4d71-a514-4d51dee15b26"
      },
      "execution_count": 21,
      "outputs": [
        {
          "output_type": "stream",
          "name": "stdout",
          "text": [
            "[5, 1, 2]\n"
          ]
        }
      ]
    },
    {
      "cell_type": "code",
      "source": [
        ""
      ],
      "metadata": {
        "id": "QPYMLON6Kg2g"
      },
      "execution_count": null,
      "outputs": []
    }
  ]
}