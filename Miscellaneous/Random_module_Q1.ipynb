{
  "nbformat": 4,
  "nbformat_minor": 0,
  "metadata": {
    "colab": {
      "name": "Random_module_Q1.ipynb",
      "provenance": [],
      "collapsed_sections": []
    },
    "kernelspec": {
      "name": "python3",
      "display_name": "Python 3"
    },
    "language_info": {
      "name": "python"
    }
  },
  "cells": [
    {
      "cell_type": "markdown",
      "source": [
        "**Question:-WAP in python to choose any random number from the given list**"
      ],
      "metadata": {
        "id": "bH9N3tqnJX2l"
      }
    },
    {
      "cell_type": "code",
      "source": [
        "# import random\n",
        "import random\n",
        "  \n",
        "# prints a random value from the list\n",
        "list1 = [1, 2, 3, 4, 5, 6]\n",
        "print(random.choice(list1))"
      ],
      "metadata": {
        "colab": {
          "base_uri": "https://localhost:8080/"
        },
        "id": "MlbAK97LJL4L",
        "outputId": "2c213877-0b51-4a65-af56-1b1d4a04f19e"
      },
      "execution_count": 17,
      "outputs": [
        {
          "output_type": "stream",
          "name": "stdout",
          "text": [
            "5\n"
          ]
        }
      ]
    },
    {
      "cell_type": "code",
      "source": [
        ""
      ],
      "metadata": {
        "id": "NLCLQWHWJWkg"
      },
      "execution_count": null,
      "outputs": []
    }
  ]
}