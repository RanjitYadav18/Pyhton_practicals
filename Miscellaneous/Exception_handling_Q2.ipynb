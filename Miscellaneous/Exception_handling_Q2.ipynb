{
  "nbformat": 4,
  "nbformat_minor": 0,
  "metadata": {
    "colab": {
      "name": "Exception_handling_Q2.ipynb",
      "provenance": [],
      "collapsed_sections": []
    },
    "kernelspec": {
      "name": "python3",
      "display_name": "Python 3"
    },
    "language_info": {
      "name": "python"
    }
  },
  "cells": [
    {
      "cell_type": "code",
      "source": [
        "try:\n",
        "  a=int(input(\"enter the value\"))\n",
        "  b=int(input(\"enter the value\"))\n",
        "  c=a/b\n",
        "  print(\"c=\",c)\n",
        "except ZeroDivisionError:\n",
        "  print(\"denominator is 0\")\n",
        "except ValueError:\n",
        "  print(\"unable to convert string to int\")\n",
        "except:\n",
        "  print(\"some unknown error\")\n",
        "\n"
      ],
      "metadata": {
        "colab": {
          "base_uri": "https://localhost:8080/"
        },
        "id": "kYmr2m_BHNcv",
        "outputId": "5cd84a02-ddd8-4c6a-9447-2748564b922b"
      },
      "execution_count": 11,
      "outputs": [
        {
          "output_type": "stream",
          "name": "stdout",
          "text": [
            "enter the value65\n",
            "enter the value45\n",
            "c= 1.4444444444444444\n"
          ]
        }
      ]
    },
    {
      "cell_type": "code",
      "source": [
        ""
      ],
      "metadata": {
        "id": "aZJklySIHjRv"
      },
      "execution_count": null,
      "outputs": []
    }
  ]
}