{
  "nbformat": 4,
  "nbformat_minor": 0,
  "metadata": {
    "colab": {
      "name": "Exception_handling_Q1.ipynb",
      "provenance": [],
      "collapsed_sections": []
    },
    "kernelspec": {
      "name": "python3",
      "display_name": "Python 3"
    },
    "language_info": {
      "name": "python"
    }
  },
  "cells": [
    {
      "cell_type": "markdown",
      "source": [
        "**Question:-WAP in python of exception handling to show the zero division error**"
      ],
      "metadata": {
        "id": "YdMNkrLAHREV"
      }
    },
    {
      "cell_type": "code",
      "source": [
        "try:\n",
        "    k = 5//0 \n",
        "    print(k)\n",
        "except ZeroDivisionError:\n",
        "    print(\"Can't divide by zero\")\n",
        " \n",
        "finally:\n",
        "    print('This is always executed')"
      ],
      "metadata": {
        "id": "aSmDwehXQQFR",
        "colab": {
          "base_uri": "https://localhost:8080/"
        },
        "outputId": "db1c3f5e-258f-4532-ba83-cf184d040d34"
      },
      "execution_count": 9,
      "outputs": [
        {
          "output_type": "stream",
          "name": "stdout",
          "text": [
            "Can't divide by zero\n",
            "This is always executed\n"
          ]
        }
      ]
    },
    {
      "cell_type": "code",
      "source": [
        ""
      ],
      "metadata": {
        "id": "kYmr2m_BHNcv"
      },
      "execution_count": null,
      "outputs": []
    }
  ]
}