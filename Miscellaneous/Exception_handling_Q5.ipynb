{
  "nbformat": 4,
  "nbformat_minor": 0,
  "metadata": {
    "colab": {
      "name": "Exception_handling_Q5.ipynb",
      "provenance": [],
      "collapsed_sections": []
    },
    "kernelspec": {
      "name": "python3",
      "display_name": "Python 3"
    },
    "language_info": {
      "name": "python"
    }
  },
  "cells": [
    {
      "cell_type": "code",
      "source": [
        "try:  \n",
        "    a = int(input(\"Enter a:\"))    \n",
        "    b = int(input(\"Enter b:\"))    \n",
        "    c = a/b  \n",
        "except:  \n",
        "    print(\"Can't divide with zero\")  "
      ],
      "metadata": {
        "colab": {
          "base_uri": "https://localhost:8080/"
        },
        "id": "wMza7qvRH-3b",
        "outputId": "60c094be-df92-4f6d-d6ae-334cf80e1ef6"
      },
      "execution_count": 15,
      "outputs": [
        {
          "output_type": "stream",
          "name": "stdout",
          "text": [
            "Enter a:4\n",
            "Enter b:0\n",
            "Can't divide with zero\n"
          ]
        }
      ]
    },
    {
      "cell_type": "code",
      "source": [
        ""
      ],
      "metadata": {
        "id": "8D5Z6NouIarw"
      },
      "execution_count": 14,
      "outputs": []
    }
  ]
}