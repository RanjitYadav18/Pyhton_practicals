{
  "nbformat": 4,
  "nbformat_minor": 0,
  "metadata": {
    "colab": {
      "name": "Math_Question5.ipynb",
      "provenance": [],
      "collapsed_sections": []
    },
    "kernelspec": {
      "name": "python3",
      "display_name": "Python 3"
    },
    "language_info": {
      "name": "python"
    }
  },
  "cells": [
    {
      "cell_type": "markdown",
      "source": [
        "***Question:-WAP in python to find the nearest  of a number using math module***"
      ],
      "metadata": {
        "id": "UzexhJ_CGw0x"
      }
    },
    {
      "cell_type": "code",
      "source": [
        "#finding the nearest number for the given    number\n",
        "import math\n",
        "x=float(input(\"enter first number \"))\n",
        "y=math.ceil(x)\n",
        "y\n"
      ],
      "metadata": {
        "id": "N7ZkGx1jMiyU",
        "colab": {
          "base_uri": "https://localhost:8080/"
        },
        "outputId": "993d3f03-c735-494f-bf47-e97266328566"
      },
      "execution_count": 8,
      "outputs": [
        {
          "name": "stdout",
          "output_type": "stream",
          "text": [
            "enter first number 6.45\n"
          ]
        },
        {
          "output_type": "execute_result",
          "data": {
            "text/plain": [
              "7"
            ]
          },
          "metadata": {},
          "execution_count": 8
        }
      ]
    },
    {
      "cell_type": "code",
      "source": [
        ""
      ],
      "metadata": {
        "id": "aSmDwehXQQFR"
      },
      "execution_count": null,
      "outputs": []
    }
  ]
}