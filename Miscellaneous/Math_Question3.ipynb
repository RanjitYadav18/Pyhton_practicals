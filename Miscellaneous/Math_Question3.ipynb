{
  "nbformat": 4,
  "nbformat_minor": 0,
  "metadata": {
    "colab": {
      "name": "Math_Question3.ipynb",
      "provenance": [],
      "collapsed_sections": []
    },
    "kernelspec": {
      "name": "python3",
      "display_name": "Python 3"
    },
    "language_info": {
      "name": "python"
    }
  },
  "cells": [
    {
      "cell_type": "markdown",
      "source": [
        "***Question:-WAP in python to find the hypotnuse  of any number  using math module***"
      ],
      "metadata": {
        "id": "UzexhJ_CGw0x"
      }
    },
    {
      "cell_type": "code",
      "source": [
        "#finding the hypotnuse for two  number\n",
        "import math\n",
        "x=int(input(\"enter first number \"))\n",
        "y=int(input(\"enter second number\"))\n",
        "h=math.hypot(x,y)\n",
        "h\n",
        "\n"
      ],
      "metadata": {
        "id": "N7ZkGx1jMiyU",
        "colab": {
          "base_uri": "https://localhost:8080/"
        },
        "outputId": "43db7542-8eea-48d3-dcc1-08d7c974a312"
      },
      "execution_count": 7,
      "outputs": [
        {
          "name": "stdout",
          "output_type": "stream",
          "text": [
            "enter first number 4\n",
            "enter second number3\n"
          ]
        },
        {
          "output_type": "execute_result",
          "data": {
            "text/plain": [
              "5.0"
            ]
          },
          "metadata": {},
          "execution_count": 7
        }
      ]
    },
    {
      "cell_type": "code",
      "source": [
        ""
      ],
      "metadata": {
        "id": "aSmDwehXQQFR"
      },
      "execution_count": null,
      "outputs": []
    }
  ]
}