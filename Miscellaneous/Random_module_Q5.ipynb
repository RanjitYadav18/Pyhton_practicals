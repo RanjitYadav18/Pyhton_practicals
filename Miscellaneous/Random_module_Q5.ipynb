{
  "nbformat": 4,
  "nbformat_minor": 0,
  "metadata": {
    "colab": {
      "name": "Random_module_Q5.ipynb",
      "provenance": [],
      "collapsed_sections": []
    },
    "kernelspec": {
      "name": "python3",
      "display_name": "Python 3"
    },
    "language_info": {
      "name": "python"
    }
  },
  "cells": [
    {
      "cell_type": "code",
      "source": [
        "import random\n",
        "rpos = random.randint(5, 15)\n",
        "print(\"Random number between 5 and 15 is % s\" % (rpos))\n",
        "rneg = random.randint(-10, -2)\n",
        "print(\"Random number between -10 and -2 is % d\" % (rneg))"
      ],
      "metadata": {
        "colab": {
          "base_uri": "https://localhost:8080/"
        },
        "id": "_wdMzb2xLw-o",
        "outputId": "e120a9d8-e20c-4855-ee30-2fb0221f5a88"
      },
      "execution_count": 24,
      "outputs": [
        {
          "output_type": "stream",
          "name": "stdout",
          "text": [
            "Random number between 5 and 15 is 8\n",
            "Random number between -10 and -2 is -10\n"
          ]
        }
      ]
    },
    {
      "cell_type": "code",
      "source": [
        ""
      ],
      "metadata": {
        "id": "aJB5_yvaL2H7"
      },
      "execution_count": null,
      "outputs": []
    }
  ]
}