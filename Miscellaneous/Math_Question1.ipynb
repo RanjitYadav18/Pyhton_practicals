{
  "nbformat": 4,
  "nbformat_minor": 0,
  "metadata": {
    "colab": {
      "name": "Math_Question1.ipynb",
      "provenance": [],
      "collapsed_sections": []
    },
    "kernelspec": {
      "name": "python3",
      "display_name": "Python 3"
    },
    "language_info": {
      "name": "python"
    }
  },
  "cells": [
    {
      "cell_type": "markdown",
      "source": [
        "***Question:-WAP in python to find square root of any number  using math module***"
      ],
      "metadata": {
        "id": "UzexhJ_CGw0x"
      }
    },
    {
      "cell_type": "code",
      "source": [
        "#finding the square root of any number\n",
        "import math\n",
        "x=int(input(\"enter number \"))\n",
        "\n",
        "s=math.sqrt(x)\n",
        "print(s)"
      ],
      "metadata": {
        "id": "N7ZkGx1jMiyU",
        "colab": {
          "base_uri": "https://localhost:8080/"
        },
        "outputId": "9eb5a252-07a7-436c-ce76-0c237616c3cf"
      },
      "execution_count": 1,
      "outputs": [
        {
          "output_type": "stream",
          "name": "stdout",
          "text": [
            "enter number 121\n",
            "11.0\n"
          ]
        }
      ]
    },
    {
      "cell_type": "code",
      "source": [
        ""
      ],
      "metadata": {
        "id": "aSmDwehXQQFR"
      },
      "execution_count": null,
      "outputs": []
    }
  ]
}