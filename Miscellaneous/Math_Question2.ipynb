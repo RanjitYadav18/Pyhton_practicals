{
  "nbformat": 4,
  "nbformat_minor": 0,
  "metadata": {
    "colab": {
      "name": "Math_Question2.ipynb",
      "provenance": [],
      "collapsed_sections": []
    },
    "kernelspec": {
      "name": "python3",
      "display_name": "Python 3"
    },
    "language_info": {
      "name": "python"
    }
  },
  "cells": [
    {
      "cell_type": "markdown",
      "source": [
        "***Question:-WAP in python to find sine and cosine values  of any number  using math module***"
      ],
      "metadata": {
        "id": "UzexhJ_CGw0x"
      }
    },
    {
      "cell_type": "code",
      "source": [
        "#finding the square root of any number\n",
        "import math\n",
        "x=int(input(\"enter first number \"))\n",
        "y=int(input(\"enter second number\"))\n",
        "s=math.sin(x)\n",
        "c=math.cos(y)\n",
        "print(\"the sine and cosine values of x and y are \",s,c)\n",
        "print(s)"
      ],
      "metadata": {
        "id": "N7ZkGx1jMiyU"
      },
      "execution_count": null,
      "outputs": []
    },
    {
      "cell_type": "code",
      "source": [
        ""
      ],
      "metadata": {
        "id": "aSmDwehXQQFR"
      },
      "execution_count": null,
      "outputs": []
    }
  ]
}