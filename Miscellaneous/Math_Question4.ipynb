{
  "nbformat": 4,
  "nbformat_minor": 0,
  "metadata": {
    "colab": {
      "name": "Math_Question4.ipynb",
      "provenance": [],
      "collapsed_sections": []
    },
    "kernelspec": {
      "name": "python3",
      "display_name": "Python 3"
    },
    "language_info": {
      "name": "python"
    }
  },
  "cells": [
    {
      "cell_type": "markdown",
      "source": [
        "***Question:-WAP in python to find the factorial of a number using math module***"
      ],
      "metadata": {
        "id": "UzexhJ_CGw0x"
      }
    },
    {
      "cell_type": "code",
      "source": [
        "#finding the factorial of a   number\n",
        "import math\n",
        "x=int(input(\"enter first number \"))\n",
        "fact=math.factorial(x)\n",
        "fact\n",
        "\n"
      ],
      "metadata": {
        "id": "N7ZkGx1jMiyU",
        "colab": {
          "base_uri": "https://localhost:8080/"
        },
        "outputId": "f9f7ee81-415b-4e47-b447-da108e1444cb"
      },
      "execution_count": 1,
      "outputs": [
        {
          "name": "stdout",
          "output_type": "stream",
          "text": [
            "enter first number 6\n"
          ]
        },
        {
          "output_type": "execute_result",
          "data": {
            "text/plain": [
              "720"
            ]
          },
          "metadata": {},
          "execution_count": 1
        }
      ]
    },
    {
      "cell_type": "code",
      "source": [
        ""
      ],
      "metadata": {
        "id": "aSmDwehXQQFR"
      },
      "execution_count": null,
      "outputs": []
    }
  ]
}