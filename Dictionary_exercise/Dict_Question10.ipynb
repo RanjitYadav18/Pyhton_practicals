{
  "nbformat": 4,
  "nbformat_minor": 0,
  "metadata": {
    "colab": {
      "name": "Dict_Question10.ipynb",
      "provenance": [],
      "collapsed_sections": []
    },
    "kernelspec": {
      "name": "python3",
      "display_name": "Python 3"
    },
    "language_info": {
      "name": "python"
    }
  },
  "cells": [
    {
      "cell_type": "code",
      "source": [
        "#sorting the dictionary by key\n",
        "a={}\n",
        "size=int(input(\"enter the size of dictionary\"))\n",
        "for i in range(0,size):\n",
        "  key=input(\"enter key\")\n",
        "  value=input(\"enter value\")\n",
        "  a[key]=value\n",
        "print(a)\n",
        "b=sorted(a.keys())\n",
        "print(b)"
      ],
      "metadata": {
        "id": "geXFJPafEGA3"
      },
      "execution_count": null,
      "outputs": []
    }
  ]
}