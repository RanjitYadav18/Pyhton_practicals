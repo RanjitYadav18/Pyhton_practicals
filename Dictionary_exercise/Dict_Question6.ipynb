{
  "nbformat": 4,
  "nbformat_minor": 0,
  "metadata": {
    "colab": {
      "name": "Dict_Question6.ipynb",
      "provenance": [],
      "collapsed_sections": []
    },
    "kernelspec": {
      "name": "python3",
      "display_name": "Python 3"
    },
    "language_info": {
      "name": "python"
    }
  },
  "cells": [
    {
      "cell_type": "code",
      "source": [
        "#adding a key in a given dictionary\n",
        "a={}\n",
        "size=int(input(\"enter the size of dictionary\"))\n",
        "for i in range(0,size):\n",
        "  key=input(\"enter key\")\n",
        "  value=input(\"enter value\")\n",
        "  a[key]=value\n",
        "print(a)\n",
        "a.update({2:30})\n",
        "a"
      ],
      "metadata": {
        "id": "vutlR6rcDmLb"
      },
      "execution_count": null,
      "outputs": []
    }
  ]
}