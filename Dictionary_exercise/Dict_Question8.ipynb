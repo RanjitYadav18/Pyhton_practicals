{
  "nbformat": 4,
  "nbformat_minor": 0,
  "metadata": {
    "colab": {
      "name": "Dict_Question8.ipynb",
      "provenance": [],
      "collapsed_sections": []
    },
    "kernelspec": {
      "name": "python3",
      "display_name": "Python 3"
    },
    "language_info": {
      "name": "python"
    }
  },
  "cells": [
    {
      "cell_type": "code",
      "source": [
        "#maping two lists into dictionary without zip function \n",
        "a=[1,2,3,4,5]\n",
        "b=[6,7,8,9,10]\n",
        "d=dict(map(lambda a,b:{a,b},a,b))\n",
        "d"
      ],
      "metadata": {
        "id": "B7L7hWW5D3fL"
      },
      "execution_count": null,
      "outputs": []
    }
  ]
}