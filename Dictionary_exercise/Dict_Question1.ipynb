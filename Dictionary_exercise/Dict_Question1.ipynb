{
  "nbformat": 4,
  "nbformat_minor": 0,
  "metadata": {
    "colab": {
      "name": "Dict_Question1.ipynb",
      "provenance": [],
      "collapsed_sections": []
    },
    "kernelspec": {
      "name": "python3",
      "display_name": "Python 3"
    },
    "language_info": {
      "name": "python"
    }
  },
  "cells": [
    {
      "cell_type": "code",
      "source": [
        "#input of dictionary from user\n",
        "a={}\n",
        "size=int(input(\"enter the size of dictionary\"))\n",
        "for i in range(0,size):\n",
        "  key=input(\"enter key\")\n",
        "  value=input(\"enter value\")\n",
        "  a[key]=value\n",
        "print(a)"
      ],
      "metadata": {
        "colab": {
          "base_uri": "https://localhost:8080/"
        },
        "id": "t_lSKrrxAos3",
        "outputId": "00cdda16-683b-44b7-f866-9290e32425c4"
      },
      "execution_count": 13,
      "outputs": [
        {
          "output_type": "stream",
          "name": "stdout",
          "text": [
            "enter the size of dictionary5\n",
            "enter key\n",
            "enter value5\n",
            "enter key4\n",
            "enter value5\n",
            "enter key8\n",
            "enter value4\n",
            "enter key1\n",
            "enter value10\n",
            "enter key23\n",
            "enter value89\n",
            "{'': '5', '4': '5', '8': '4', '1': '10', '23': '89'}\n"
          ]
        }
      ]
    },
    {
      "cell_type": "code",
      "source": [
        "58"
      ],
      "metadata": {
        "id": "yBshJV9mCpMx"
      },
      "execution_count": null,
      "outputs": []
    }
  ]
}