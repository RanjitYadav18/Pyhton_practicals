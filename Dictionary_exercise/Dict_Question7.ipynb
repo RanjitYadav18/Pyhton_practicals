{
  "nbformat": 4,
  "nbformat_minor": 0,
  "metadata": {
    "colab": {
      "name": "Dict_Question7.ipynb",
      "provenance": [],
      "collapsed_sections": []
    },
    "kernelspec": {
      "name": "python3",
      "display_name": "Python 3"
    },
    "language_info": {
      "name": "python"
    }
  },
  "cells": [
    {
      "cell_type": "code",
      "source": [
        "\n",
        "#checking whether a key is present in a given dictionary\n",
        "a={}\n",
        "size=int(input(\"enter the size of dictionary\"))\n",
        "for i in range(0,size):\n",
        "  key=input(\"enter key\")\n",
        "  value=input(\"enter value\")\n",
        "  a[key]=value\n",
        "print(a)\n",
        "x=input(\"enter the key you want to check\")\n",
        "if x in a:\n",
        "  print(\"it is already present\")\n",
        "else:\n",
        "  print(\"it is not present\")"
      ],
      "metadata": {
        "id": "sRPmb62sDuK2"
      },
      "execution_count": null,
      "outputs": []
    }
  ]
}