{
  "nbformat": 4,
  "nbformat_minor": 0,
  "metadata": {
    "colab": {
      "name": "Dict_Question4.ipynb",
      "provenance": [],
      "collapsed_sections": []
    },
    "kernelspec": {
      "name": "python3",
      "display_name": "Python 3"
    },
    "language_info": {
      "name": "python"
    }
  },
  "cells": [
    {
      "cell_type": "code",
      "source": [
        "#removing a key from the dictionary\n",
        "a={}\n",
        "size=int(input(\"enter the size of dictionary\"))\n",
        "for i in range(0,size):\n",
        "  key=int(input(\"enter key\"))\n",
        "  value=int(input(\"enter value\"))\n",
        "  a[key]=value\n",
        "print(a)\n",
        "a.pop(1)\n",
        "print(\"the edited dictionary is\",a)"
      ],
      "metadata": {
        "id": "4ruBD7eQDQlg"
      },
      "execution_count": null,
      "outputs": []
    }
  ]
}