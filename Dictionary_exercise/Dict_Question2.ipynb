{
  "nbformat": 4,
  "nbformat_minor": 0,
  "metadata": {
    "colab": {
      "name": "Dict_Question2.ipynb",
      "provenance": [],
      "collapsed_sections": []
    },
    "kernelspec": {
      "name": "python3",
      "display_name": "Python 3"
    },
    "language_info": {
      "name": "python"
    }
  },
  "cells": [
    {
      "cell_type": "code",
      "source": [
        "#merging two dictionaries\n",
        "a={}\n",
        "size=int(input(\"enter the size of first dictionary\"))\n",
        "for i in range(0,size):\n",
        "  key=input(\"enter key\")\n",
        "  \n",
        "  value=input(\"enter value\")\n",
        "  a[key]=value\n",
        "b={}\n",
        "size=int(input(\"enter the size of second array\"))\n",
        "for j in range(0,size):\n",
        "  key=input(\"enter key\")\n",
        "  value=input(\"enter value\")\n",
        "  b[key]=value\n",
        "a.update(b)\n",
        "a"
      ],
      "metadata": {
        "colab": {
          "base_uri": "https://localhost:8080/"
        },
        "id": "uQK8I012C0B9",
        "outputId": "da925f6c-fd2a-40ae-8476-e53ef725b68a"
      },
      "execution_count": 15,
      "outputs": [
        {
          "name": "stdout",
          "output_type": "stream",
          "text": [
            "enter the size of first dictionary5\n",
            "enter key1\n",
            "enter value2\n",
            "enter key3\n",
            "enter value4\n",
            "enter key5\n",
            "enter value6\n",
            "enter key7\n",
            "enter value8\n",
            "enter key9\n",
            "enter value10\n",
            "enter the size of second array3\n",
            "enter key1\n",
            "enter value2\n",
            "enter key54\n",
            "enter value45\n",
            "enter key5453\n",
            "enter value44\n"
          ]
        },
        {
          "output_type": "execute_result",
          "data": {
            "text/plain": [
              "{'1': '2', '3': '4', '5': '6', '54': '45', '5453': '44', '7': '8', '9': '10'}"
            ]
          },
          "metadata": {},
          "execution_count": 15
        }
      ]
    },
    {
      "cell_type": "code",
      "source": [
        ""
      ],
      "metadata": {
        "id": "2_5ZRJOYC6od"
      },
      "execution_count": null,
      "outputs": []
    }
  ]
}