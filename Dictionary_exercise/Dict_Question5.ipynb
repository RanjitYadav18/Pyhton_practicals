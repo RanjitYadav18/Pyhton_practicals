{
  "nbformat": 4,
  "nbformat_minor": 0,
  "metadata": {
    "colab": {
      "name": "Dict_Question5.ipynb",
      "provenance": [],
      "collapsed_sections": []
    },
    "kernelspec": {
      "name": "python3",
      "display_name": "Python 3"
    },
    "language_info": {
      "name": "python"
    }
  },
  "cells": [
    {
      "cell_type": "code",
      "source": [
        "#checking whether a dictionary is empty or not\n",
        "a={}\n",
        "size=int(input(\"enter the size of dictionary\"))\n",
        "for i in range(0,size):\n",
        "  key=input(\"enter key\")\n",
        "  value=input(\"enter value\")\n",
        "  a[key]=value\n",
        "if(len(a)==0):\n",
        "  print(\"empty\")\n",
        "else:\n",
        "  \n",
        "  print(\"not\")"
      ],
      "metadata": {
        "id": "TFunzWnNDZZf"
      },
      "execution_count": null,
      "outputs": []
    }
  ]
}